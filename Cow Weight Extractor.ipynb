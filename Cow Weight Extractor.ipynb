{
 "cells": [
  {
   "cell_type": "code",
   "execution_count": 1,
   "id": "71bb8ad2-8f80-4cb6-a4ef-18409a8b430d",
   "metadata": {},
   "outputs": [
    {
     "name": "stdout",
     "output_type": "stream",
     "text": [
      "WARNING:tensorflow:From C:\\Users\\Admin\\anaconda3\\envs\\mne\\Lib\\site-packages\\keras\\src\\losses.py:2976: The name tf.losses.sparse_softmax_cross_entropy is deprecated. Please use tf.compat.v1.losses.sparse_softmax_cross_entropy instead.\n",
      "\n"
     ]
    }
   ],
   "source": [
    "from flask import Flask, render_template, request\n",
    "import cv2\n",
    "import numpy as np\n",
    "from tensorflow import keras\n",
    "from tensorflow.keras.models import load_model"
   ]
  },
  {
   "cell_type": "code",
   "execution_count": 2,
   "id": "2818128c-319e-4c2d-9108-27b51527f580",
   "metadata": {},
   "outputs": [],
   "source": [
    "app = Flask(\"Cow Weight Extractor\")"
   ]
  },
  {
   "cell_type": "code",
   "execution_count": 3,
   "id": "13ece8e9-f6dd-4afa-8b40-e3102e6e27ed",
   "metadata": {},
   "outputs": [
    {
     "name": "stdout",
     "output_type": "stream",
     "text": [
      "WARNING:tensorflow:From C:\\Users\\Admin\\anaconda3\\envs\\mne\\Lib\\site-packages\\keras\\src\\backend.py:1398: The name tf.executing_eagerly_outside_functions is deprecated. Please use tf.compat.v1.executing_eagerly_outside_functions instead.\n",
      "\n",
      "WARNING:tensorflow:From C:\\Users\\Admin\\anaconda3\\envs\\mne\\Lib\\site-packages\\keras\\src\\layers\\pooling\\max_pooling2d.py:161: The name tf.nn.max_pool is deprecated. Please use tf.nn.max_pool2d instead.\n",
      "\n"
     ]
    }
   ],
   "source": [
    "# Load the trained model\n",
    "model = load_model('cow_weight_model.h5')"
   ]
  },
  {
   "cell_type": "code",
   "execution_count": 4,
   "id": "45186725-3320-4830-b94c-64f1110ec854",
   "metadata": {},
   "outputs": [],
   "source": [
    "# Function to preprocess image and get the predicted weight\n",
    "def get_predicted_weight(img):\n",
    "    # Preprocess the image as needed (resize, normalize, etc.)\n",
    "    img = preprocess_image(img)\n",
    "\n",
    "    # Make a prediction using the loaded model\n",
    "    prediction = model.predict(np.expand_dims(img, axis=0))[0][0]\n",
    "\n",
    "    return prediction"
   ]
  },
  {
   "cell_type": "code",
   "execution_count": 5,
   "id": "5dac2cec-699b-44b5-8719-5adce05dc99e",
   "metadata": {},
   "outputs": [],
   "source": [
    "# Function to preprocess the image (you need to implement this based on your training preprocessing)\n",
    "def preprocess_image(img):\n",
    "    # Implement image preprocessing steps here\n",
    "    return img"
   ]
  },
  {
   "cell_type": "code",
   "execution_count": 6,
   "id": "652ce3c7-3697-4b6b-9368-6a435cd285ec",
   "metadata": {},
   "outputs": [],
   "source": [
    "# Route to handle image uploads\n",
    "@app.route('/predict_weight', methods=['POST'])\n",
    "def predict_weight():\n",
    "    # Get the image from the request\n",
    "    image = request.files['image'].read()\n",
    "    nparr = np.fromstring(image, np.uint8)\n",
    "    img = cv2.imdecode(nparr, cv2.IMREAD_COLOR)\n",
    "\n",
    "    # Get the predicted weight\n",
    "    predicted_weight = get_predicted_weight(img)\n",
    "\n",
    "    return str(predicted_weight)"
   ]
  },
  {
   "cell_type": "code",
   "execution_count": 7,
   "id": "9335e302-6499-4fc6-994a-a4dc0d116205",
   "metadata": {},
   "outputs": [],
   "source": [
    "# # Main route to display the camera feed\n",
    "@app.route('/')\n",
    "def index():\n",
    "    return render_template('index.html')\n",
    "\n",
    "if 'Cow Weight Extractor' == '__main__':\n",
    "    app.run(debug=True)"
   ]
  },
  {
   "cell_type": "code",
   "execution_count": null,
   "id": "7c59d338-a0f2-4f53-b6b0-055c6285705b",
   "metadata": {},
   "outputs": [],
   "source": []
  }
 ],
 "metadata": {
  "kernelspec": {
   "display_name": "Python 3 (ipykernel)",
   "language": "python",
   "name": "python3"
  },
  "language_info": {
   "codemirror_mode": {
    "name": "ipython",
    "version": 3
   },
   "file_extension": ".py",
   "mimetype": "text/x-python",
   "name": "python",
   "nbconvert_exporter": "python",
   "pygments_lexer": "ipython3",
   "version": "3.11.7"
  }
 },
 "nbformat": 4,
 "nbformat_minor": 5
}
