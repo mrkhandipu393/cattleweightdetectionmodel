{
 "cells": [
  {
   "cell_type": "code",
   "execution_count": 31,
   "id": "edad08bd-d5f9-4e38-b907-9aa3bfb35dcd",
   "metadata": {},
   "outputs": [],
   "source": [
    "import tensorflow as tf\n",
    "from tensorflow_model_optimization.quantization.keras import quantize_model\n",
    "from tensorflow_model_optimization.quantization.keras import quantize_annotate_layer"
   ]
  },
  {
   "cell_type": "code",
   "execution_count": 32,
   "id": "f3f77fb6-bed0-4b4e-af7c-7862f7f0c895",
   "metadata": {},
   "outputs": [],
   "source": [
    "# Load the existing TensorFlow Lite model\n",
    "tflite_model_path = 'cow_weight_detection_model.tflite'  # Replace with the path to your .tflite model\n",
    "tflite_model_content = open(tflite_model_path, 'rb').read()"
   ]
  },
  {
   "cell_type": "code",
   "execution_count": 33,
   "id": "cc994da4-ed29-4db3-b232-10f4eda94a11",
   "metadata": {},
   "outputs": [],
   "source": [
    "# Create a TensorFlow Lite Interpreter\n",
    "interpreter = tf.lite.Interpreter(model_content=tflite_model_content)\n",
    "interpreter.allocate_tensors()"
   ]
  },
  {
   "cell_type": "code",
   "execution_count": 34,
   "id": "a28b2700-80f3-46bc-9915-26f864fd2ada",
   "metadata": {},
   "outputs": [],
   "source": [
    "# Get input and output details\n",
    "input_details = interpreter.get_input_details()\n",
    "output_details = interpreter.get_output_details()"
   ]
  },
  {
   "cell_type": "code",
   "execution_count": 35,
   "id": "032f572f-a630-49c5-9212-ec09b25ce17d",
   "metadata": {},
   "outputs": [],
   "source": [
    "# Convert the TensorFlow Lite model to a TensorFlow Keras model\n",
    "def lite_to_keras(interpreter):\n",
    "    concrete_func = interpreter.signatures[\"serving_default\"]\n",
    "    concrete_func.inputs[0].set_shape([1, *concrete_func.inputs[0].shape[1:]])\n",
    "    return concrete_func"
   ]
  },
  {
   "cell_type": "code",
   "execution_count": 36,
   "id": "3b5b5c57-ac5d-4ae5-afce-5cf67b22e416",
   "metadata": {},
   "outputs": [],
   "source": [
    "# Create a TensorFlow Keras model\n",
    "keras_model = tf.keras.Sequential()\n",
    "keras_model.add(tf.keras.layers.InputLayer(input_shape=input_details[0]['shape'][1:]))"
   ]
  },
  {
   "cell_type": "code",
   "execution_count": 37,
   "id": "777d8856-1b20-4522-ab14-e025b3cc05a2",
   "metadata": {},
   "outputs": [],
   "source": [
    "# Iterate through all tensors in the model\n",
    "for layer_id, layer in enumerate(interpreter.get_tensor_details()):\n",
    "    # Check if it's a Conv2D layer\n",
    "    if 'conv' in layer['name']:\n",
    "        filters = layer['shape'][-1]\n",
    "        \n",
    "        # Check if 'shape' exists and has more than one element\n",
    "        if 'shape' in layer and layer['shape'][1:3].size > 0:\n",
    "            kernel_size = tuple(layer['shape'][1:3])\n",
    "        else:\n",
    "            kernel_size = (3, 3)  \n",
    "        \n",
    "        activation = 'relu'  \n",
    "\n",
    "        # Check if 'relu' is in the activation function, if not, assume 'linear'\n",
    "        if 'relu' not in layer['name']:\n",
    "            activation = 'linear'\n",
    "\n",
    "        # Check if kernel_size has valid values\n",
    "        if all(isinstance(val, int) for val in kernel_size):\n",
    "            keras_model.add(tf.keras.layers.Conv2D(filters, kernel_size, activation=activation))\n",
    "        else:\n",
    "            # Manually set a default kernel size or choose a suitable size\n",
    "            default_kernel_size = (3, 3)\n",
    "            keras_model.add(tf.keras.layers.Conv2D(filters, default_kernel_size, activation=activation))"
   ]
  },
  {
   "cell_type": "code",
   "execution_count": 38,
   "id": "36654e40-cf98-4183-b6f2-f3afecb35e1f",
   "metadata": {},
   "outputs": [],
   "source": [
    "# Build the TensorFlow Keras model\n",
    "keras_model.build(input_shape=(None, *input_details[0]['shape'][1:]))"
   ]
  },
  {
   "cell_type": "code",
   "execution_count": 39,
   "id": "8087c4a7-d210-4aa2-9b43-2c8dcd4cf524",
   "metadata": {},
   "outputs": [],
   "source": [
    "# Annotate each layer for quantization\n",
    "annotated_layers = [quantize_annotate_layer(layer) for layer in keras_model.layers]"
   ]
  },
  {
   "cell_type": "code",
   "execution_count": 40,
   "id": "41972efd-0f95-49d9-ab5d-c47dffe8da84",
   "metadata": {},
   "outputs": [],
   "source": [
    "# Build the annotated model before quantization\n",
    "annotated_model.build(input_shape=(None, *input_details[0]['shape'][1:]))"
   ]
  },
  {
   "cell_type": "code",
   "execution_count": 41,
   "id": "8e656693-38c8-460a-b8ee-d57377674b27",
   "metadata": {},
   "outputs": [],
   "source": [
    "# Quantize the TensorFlow Keras model\n",
    "quantized_model = quantize_model(annotated_model)"
   ]
  },
  {
   "cell_type": "code",
   "execution_count": 42,
   "id": "f9fdb51d-965b-4870-8c2f-fdecad690ee4",
   "metadata": {},
   "outputs": [
    {
     "name": "stdout",
     "output_type": "stream",
     "text": [
      "INFO:tensorflow:Assets written to: C:\\Users\\Admin\\AppData\\Local\\Temp\\tmpo1g5r6e5\\assets\n"
     ]
    },
    {
     "name": "stderr",
     "output_type": "stream",
     "text": [
      "INFO:tensorflow:Assets written to: C:\\Users\\Admin\\AppData\\Local\\Temp\\tmpo1g5r6e5\\assets\n"
     ]
    }
   ],
   "source": [
    "# Convert the quantized model to TFLite format\n",
    "converter = tf.lite.TFLiteConverter.from_keras_model(quantized_model)\n",
    "quantized_tflite_model = converter.convert()"
   ]
  },
  {
   "cell_type": "code",
   "execution_count": 43,
   "id": "c86d1c5f-96d1-4150-897a-563c5d0b684a",
   "metadata": {},
   "outputs": [],
   "source": [
    "# Save the quantized TFLite model to a file\n",
    "tflite_filename = 'quantized_cow_weight_model.tflite'\n",
    "with open(tflite_filename, 'wb') as f:\n",
    "    f.write(quantized_tflite_model)"
   ]
  },
  {
   "cell_type": "code",
   "execution_count": null,
   "id": "4cdf9422-a797-4ee6-bcf3-f3fd7d425a8e",
   "metadata": {},
   "outputs": [],
   "source": []
  }
 ],
 "metadata": {
  "kernelspec": {
   "display_name": "Python 3 (ipykernel)",
   "language": "python",
   "name": "python3"
  },
  "language_info": {
   "codemirror_mode": {
    "name": "ipython",
    "version": 3
   },
   "file_extension": ".py",
   "mimetype": "text/x-python",
   "name": "python",
   "nbconvert_exporter": "python",
   "pygments_lexer": "ipython3",
   "version": "3.11.7"
  }
 },
 "nbformat": 4,
 "nbformat_minor": 5
}
