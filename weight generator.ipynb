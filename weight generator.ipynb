{
 "cells": [
  {
   "cell_type": "code",
   "execution_count": 1,
   "id": "8b5773e7-d3a2-475d-82bc-b3eedf4ff421",
   "metadata": {},
   "outputs": [
    {
     "name": "stdout",
     "output_type": "stream",
     "text": [
      "WARNING:tensorflow:From C:\\Users\\Admin\\anaconda3\\envs\\mne\\Lib\\site-packages\\keras\\src\\losses.py:2976: The name tf.losses.sparse_softmax_cross_entropy is deprecated. Please use tf.compat.v1.losses.sparse_softmax_cross_entropy instead.\n",
      "\n"
     ]
    }
   ],
   "source": [
    "import tensorflow as tf\n",
    "from tensorflow.keras import layers, models, applications\n",
    "from tensorflow.keras.layers import Input\n",
    "from tensorflow.keras.preprocessing.image import ImageDataGenerator"
   ]
  },
  {
   "cell_type": "code",
   "execution_count": 2,
   "id": "924d7bfa-b9fd-445c-ba38-79c08179d681",
   "metadata": {},
   "outputs": [
    {
     "name": "stdout",
     "output_type": "stream",
     "text": [
      "Checking images in path: C:\\Users\\Admin\\Cow Weight Detection\\Cow Weight Detection\\Cattle Breeds\n",
      "All images have the correct shape (300x300).\n"
     ]
    }
   ],
   "source": [
    "import os\n",
    "from PIL import Image\n",
    "\n",
    "def check_image_shapes(dataset_path, target_shape=(300, 300)):\n",
    "    mismatched_shapes = []\n",
    "\n",
    "    for root, dirs, files in os.walk(dataset_path):\n",
    "        for breed_folder in dirs:\n",
    "            breed_folder_path = os.path.join(root, breed_folder)\n",
    "\n",
    "            for image_file in os.listdir(breed_folder_path):\n",
    "                image_path = os.path.join(breed_folder_path, image_file)\n",
    "\n",
    "                try:\n",
    "                    img = Image.open(image_path)\n",
    "                    width, height = img.size\n",
    "\n",
    "                    if (width, height) != target_shape:\n",
    "                        mismatched_shapes.append((image_path, (width, height)))\n",
    "\n",
    "                except Exception as e:\n",
    "                    print(f\"Error processing {image_path}: {e}\")\n",
    "\n",
    "    return mismatched_shapes\n",
    "\n",
    "# Specify the correct path using os.path.abspath\n",
    "dataset_path = os.path.abspath('Cow Weight Detection/Cattle Breeds')\n",
    "\n",
    "print(f\"Checking images in path: {dataset_path}\")\n",
    "\n",
    "mismatched_shapes = check_image_shapes(dataset_path)\n",
    "\n",
    "if not mismatched_shapes:\n",
    "    print(\"All images have the correct shape (300x300).\")\n",
    "else:\n",
    "    print(\"Mismatched image shapes:\")\n",
    "    for image_path, shape in mismatched_shapes:\n",
    "        print(f\"{image_path}: {shape}\")"
   ]
  },
  {
   "cell_type": "code",
   "execution_count": 3,
   "id": "70387847-63f9-4905-8370-05d6078d16de",
   "metadata": {},
   "outputs": [
    {
     "name": "stdout",
     "output_type": "stream",
     "text": [
      "WARNING:tensorflow:From C:\\Users\\Admin\\anaconda3\\envs\\mne\\Lib\\site-packages\\keras\\src\\backend.py:1398: The name tf.executing_eagerly_outside_functions is deprecated. Please use tf.compat.v1.executing_eagerly_outside_functions instead.\n",
      "\n",
      "WARNING:tensorflow:From C:\\Users\\Admin\\anaconda3\\envs\\mne\\Lib\\site-packages\\keras\\src\\layers\\pooling\\max_pooling2d.py:161: The name tf.nn.max_pool is deprecated. Please use tf.nn.max_pool2d instead.\n",
      "\n"
     ]
    }
   ],
   "source": [
    "base_model = applications.VGG16(weights='imagenet', include_top=False, input_tensor=Input(shape=(300, 300, 3)))"
   ]
  },
  {
   "cell_type": "code",
   "execution_count": 4,
   "id": "d25efb1d-a7f6-48b6-b60d-7ff6e5a1a7a5",
   "metadata": {},
   "outputs": [],
   "source": [
    "# Freeze the convolutional layers\n",
    "for layer in base_model.layers:\n",
    "    layer.trainable = False"
   ]
  },
  {
   "cell_type": "code",
   "execution_count": 5,
   "id": "507abb2e-cc10-4b1c-b121-667ff9a5404c",
   "metadata": {},
   "outputs": [],
   "source": [
    "# Building model on top of the pre-trained base model\n",
    "model = models.Sequential()\n",
    "model.add(base_model)\n",
    "model.add(layers.Flatten())\n",
    "model.add(layers.Dense(256, activation='relu'))\n",
    "model.add(layers.Dense(300 * 300 * 3, activation='linear'))  # Adjust output shape for regression\n",
    "model.add(layers.Reshape((300, 300, 3)))  # Reshape to match target shape"
   ]
  },
  {
   "cell_type": "code",
   "execution_count": 6,
   "id": "000b3b18-c4a6-404a-8be3-6172bdbbf920",
   "metadata": {},
   "outputs": [],
   "source": [
    "optimizer = tf.optimizers.Adam()  # Use the updated optimizer\n",
    "model.compile(optimizer=optimizer, loss='mean_squared_error', metrics=['mae'])"
   ]
  },
  {
   "cell_type": "code",
   "execution_count": 7,
   "id": "cb769c2d-b6af-4355-aa4c-32509a482b9b",
   "metadata": {},
   "outputs": [
    {
     "name": "stdout",
     "output_type": "stream",
     "text": [
      "Found 1208 images belonging to 5 classes.\n",
      "Found 1208 images belonging to 5 classes.\n"
     ]
    }
   ],
   "source": [
    "train_data_path = 'Cattle Breeds/'\n",
    "validation_data_path = 'Cattle Breeds/'\n",
    "\n",
    "# Create an ImageDataGenerator\n",
    "datagen = ImageDataGenerator(\n",
    "    rescale=1./255,\n",
    "    rotation_range=20,\n",
    "    width_shift_range=0.2,\n",
    "    height_shift_range=0.2,\n",
    "    shear_range=0.2,\n",
    "    zoom_range=0.2,\n",
    "    horizontal_flip=True,\n",
    "    fill_mode='nearest'\n",
    ")\n",
    "\n",
    "# Create data generators\n",
    "train_generator = datagen.flow_from_directory(\n",
    "    train_data_path,\n",
    "    target_size=(300, 300),\n",
    "    batch_size=32,\n",
    "    class_mode='input'  # Regression task\n",
    ")\n",
    "\n",
    "validation_generator = datagen.flow_from_directory(\n",
    "    validation_data_path,\n",
    "    target_size=(300, 300),\n",
    "    batch_size=32,\n",
    "    class_mode='input'\n",
    ")"
   ]
  },
  {
   "cell_type": "code",
   "execution_count": 8,
   "id": "57d7fb24-1551-4b6e-9e30-93496fbba802",
   "metadata": {},
   "outputs": [
    {
     "name": "stdout",
     "output_type": "stream",
     "text": [
      "Epoch 1/10\n",
      "WARNING:tensorflow:From C:\\Users\\Admin\\anaconda3\\envs\\mne\\Lib\\site-packages\\keras\\src\\utils\\tf_utils.py:492: The name tf.ragged.RaggedTensorValue is deprecated. Please use tf.compat.v1.ragged.RaggedTensorValue instead.\n",
      "\n",
      "WARNING:tensorflow:From C:\\Users\\Admin\\anaconda3\\envs\\mne\\Lib\\site-packages\\keras\\src\\engine\\base_layer_utils.py:384: The name tf.executing_eagerly_outside_functions is deprecated. Please use tf.compat.v1.executing_eagerly_outside_functions instead.\n",
      "\n",
      "38/38 [==============================] - 716s 19s/step - loss: 0.1205 - mae: 0.2796 - val_loss: 0.0784 - val_mae: 0.2319\n",
      "Epoch 2/10\n",
      "38/38 [==============================] - 701s 19s/step - loss: 0.0719 - mae: 0.2220 - val_loss: 0.0684 - val_mae: 0.2158\n",
      "Epoch 3/10\n",
      "38/38 [==============================] - 702s 19s/step - loss: 0.0669 - mae: 0.2123 - val_loss: 0.0648 - val_mae: 0.2083\n",
      "Epoch 4/10\n",
      "38/38 [==============================] - 697s 19s/step - loss: 0.0639 - mae: 0.2062 - val_loss: 0.0618 - val_mae: 0.2024\n",
      "Epoch 5/10\n",
      "38/38 [==============================] - 712s 19s/step - loss: 0.0599 - mae: 0.1986 - val_loss: 0.0608 - val_mae: 0.1981\n",
      "Epoch 6/10\n",
      "38/38 [==============================] - 741s 20s/step - loss: 0.0589 - mae: 0.1961 - val_loss: 0.0584 - val_mae: 0.1939\n",
      "Epoch 7/10\n",
      "38/38 [==============================] - 700s 19s/step - loss: 0.0584 - mae: 0.1946 - val_loss: 0.0572 - val_mae: 0.1933\n",
      "Epoch 8/10\n",
      "38/38 [==============================] - 722s 19s/step - loss: 0.0550 - mae: 0.1879 - val_loss: 0.0548 - val_mae: 0.1867\n",
      "Epoch 9/10\n",
      "38/38 [==============================] - 726s 19s/step - loss: 0.0549 - mae: 0.1877 - val_loss: 0.0531 - val_mae: 0.1845\n",
      "Epoch 10/10\n",
      "38/38 [==============================] - 714s 19s/step - loss: 0.0525 - mae: 0.1829 - val_loss: 0.0519 - val_mae: 0.1826\n"
     ]
    },
    {
     "data": {
      "text/plain": [
       "<keras.src.callbacks.History at 0x2232e69f1d0>"
      ]
     },
     "execution_count": 8,
     "metadata": {},
     "output_type": "execute_result"
    }
   ],
   "source": [
    "model.fit(\n",
    "    train_generator,\n",
    "    epochs=10,\n",
    "    validation_data=validation_generator,\n",
    "    verbose=1\n",
    ")"
   ]
  },
  {
   "cell_type": "code",
   "execution_count": 11,
   "id": "46be4219-ed2f-4110-a5b4-4db1a320d1bc",
   "metadata": {},
   "outputs": [],
   "source": [
    "# Save the model in HDF5 format with overwrite=True\n",
    "model.save('cow_weight_model.h5', overwrite=True)"
   ]
  },
  {
   "cell_type": "code",
   "execution_count": null,
   "id": "368fa313-dcaa-4f01-8cee-e57c70aa214e",
   "metadata": {},
   "outputs": [],
   "source": []
  }
 ],
 "metadata": {
  "kernelspec": {
   "display_name": "Python 3 (ipykernel)",
   "language": "python",
   "name": "python3"
  },
  "language_info": {
   "codemirror_mode": {
    "name": "ipython",
    "version": 3
   },
   "file_extension": ".py",
   "mimetype": "text/x-python",
   "name": "python",
   "nbconvert_exporter": "python",
   "pygments_lexer": "ipython3",
   "version": "3.11.7"
  }
 },
 "nbformat": 4,
 "nbformat_minor": 5
}
