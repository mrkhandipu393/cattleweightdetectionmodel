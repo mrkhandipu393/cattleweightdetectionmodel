{
 "cells": [
  {
   "cell_type": "code",
   "execution_count": 2,
   "id": "71bb8ad2-8f80-4cb6-a4ef-18409a8b430d",
   "metadata": {},
   "outputs": [],
   "source": [
    "from flask import Flask, render_template, request\n",
    "import cv2\n",
    "import numpy as np\n",
    "from tensorflow import keras\n",
    "from tensorflow.keras.models import load_model"
   ]
  },
  {
   "cell_type": "code",
   "execution_count": 3,
   "id": "2818128c-319e-4c2d-9108-27b51527f580",
   "metadata": {},
   "outputs": [],
   "source": [
    "app = Flask(\"Cow Weight Extractor\")"
   ]
  },
  {
   "cell_type": "code",
   "execution_count": 4,
   "id": "13ece8e9-f6dd-4afa-8b40-e3102e6e27ed",
   "metadata": {},
   "outputs": [
    {
     "name": "stdout",
     "output_type": "stream",
     "text": [
      "WARNING:tensorflow:From C:\\Users\\Admin\\anaconda3\\envs\\mne\\Lib\\site-packages\\keras\\src\\backend.py:1398: The name tf.executing_eagerly_outside_functions is deprecated. Please use tf.compat.v1.executing_eagerly_outside_functions instead.\n",
      "\n",
      "WARNING:tensorflow:From C:\\Users\\Admin\\anaconda3\\envs\\mne\\Lib\\site-packages\\keras\\src\\layers\\pooling\\max_pooling2d.py:161: The name tf.nn.max_pool is deprecated. Please use tf.nn.max_pool2d instead.\n",
      "\n"
     ]
    }
   ],
   "source": [
    "# Load the trained model\n",
    "model = load_model('cow_weight_model.h5')"
   ]
  },
  {
   "cell_type": "code",
   "execution_count": 5,
   "id": "45186725-3320-4830-b94c-64f1110ec854",
   "metadata": {},
   "outputs": [],
   "source": [
    "# Function to preprocess image and get the predicted weight\n",
    "def get_predicted_weight(img):\n",
    "    img = preprocess_image(img)\n",
    "\n",
    "    # Make a prediction using the loaded model\n",
    "    prediction = model.predict(np.expand_dims(img, axis=0))[0][0]\n",
    "\n",
    "    return prediction"
   ]
  },
  {
   "cell_type": "code",
   "execution_count": 23,
   "id": "5dac2cec-699b-44b5-8719-5adce05dc99e",
   "metadata": {},
   "outputs": [
    {
     "name": "stdout",
     "output_type": "stream",
     "text": [
      "Processing images in Cattle Breeds\\Ayrshire cattle...\n",
      "Processing images in Cattle Breeds\\Brown Swiss cattle...\n",
      "Processing images in Cattle Breeds\\Holstein Friesian cattle...\n",
      "Processing images in Cattle Breeds\\Jersey cattle...\n",
      "Processing images in Cattle Breeds\\Red Dane cattle...\n"
     ]
    }
   ],
   "source": [
    "# Function to preprocess the image \n",
    "import os\n",
    "import tensorflow as tf\n",
    "\n",
    "def preprocess_image(img_path):\n",
    "    # Read the image file\n",
    "    img = tf.io.read_file(img_path)\n",
    "    \n",
    "    # Decode the image to a tensor\n",
    "    img = tf.image.decode_image(img, channels=3)\n",
    "    \n",
    "    # Resize the image to your desired dimensions\n",
    "    img = tf.image.resize(img, [300, 300])\n",
    "    \n",
    "    # Normalize the pixel values to the range [0, 1]\n",
    "    img = tf.cast(img, tf.float32) / 255.0\n",
    "    \n",
    "    return img\n",
    "\n",
    "def process_images_in_directory(main_directory):\n",
    "    # Get the list of subdirectories inside the main directory\n",
    "    subdirectories = [os.path.join(main_directory, d) for d in os.listdir(main_directory) if os.path.isdir(os.path.join(main_directory, d))]\n",
    "    \n",
    "    # Iterate through each subdirectory\n",
    "    for subdirectory in subdirectories:\n",
    "        print(f\"Processing images in {subdirectory}...\")\n",
    "        \n",
    "        # Get the list of image files in the subdirectory\n",
    "        image_files = [os.path.join(subdirectory, f) for f in os.listdir(subdirectory) if f.endswith(('.jpg', '.jpeg', '.png'))]\n",
    "        \n",
    "        # Process each image in the subdirectory\n",
    "        for image_file in image_files:\n",
    "            preprocessed_img = preprocess_image(image_file)\n",
    "            \n",
    "            \n",
    "\n",
    "# Specify the main directory containing subdirectories of cattle breeds\n",
    "main_directory = 'Cattle Breeds'\n",
    "\n",
    "# Call the function to process images in all subdirectories\n",
    "process_images_in_directory(main_directory)\n"
   ]
  },
  {
   "cell_type": "code",
   "execution_count": 19,
   "id": "652ce3c7-3697-4b6b-9368-6a435cd285ec",
   "metadata": {},
   "outputs": [],
   "source": [
    "# Route to handle image uploads\n",
    "if 'predict_weight' in app.view_functions:\n",
    "    del app.view_functions['predict_weight']\n",
    "\n",
    "@app.route('/predict_weight', methods=['POST'])\n",
    "def predict_weight():\n",
    "    # Get the image from the request\n",
    "    image = request.files['image'].read()\n",
    "    nparr = np.fromstring(image, np.uint8)\n",
    "    img = cv2.imdecode(nparr, cv2.IMREAD_COLOR)\n",
    "\n",
    "    # Get the predicted weight\n",
    "    predicted_weight = get_predicted_weight(img)\n",
    "\n",
    "    return str(predicted_weight)"
   ]
  },
  {
   "cell_type": "code",
   "execution_count": 13,
   "id": "9335e302-6499-4fc6-994a-a4dc0d116205",
   "metadata": {},
   "outputs": [],
   "source": [
    "# # Main route to display the camera feed\n",
    "@app.route('/')\n",
    "def index():\n",
    "    return render_template('index.html')\n",
    "\n",
    "if 'Cow Weight Extractor' == '__main__':\n",
    "    app.run(debug=True)"
   ]
  },
  {
   "cell_type": "code",
   "execution_count": null,
   "id": "7c59d338-a0f2-4f53-b6b0-055c6285705b",
   "metadata": {},
   "outputs": [],
   "source": []
  }
 ],
 "metadata": {
  "kernelspec": {
   "display_name": "Python 3 (ipykernel)",
   "language": "python",
   "name": "python3"
  },
  "language_info": {
   "codemirror_mode": {
    "name": "ipython",
    "version": 3
   },
   "file_extension": ".py",
   "mimetype": "text/x-python",
   "name": "python",
   "nbconvert_exporter": "python",
   "pygments_lexer": "ipython3",
   "version": "3.11.7"
  }
 },
 "nbformat": 4,
 "nbformat_minor": 5
}
